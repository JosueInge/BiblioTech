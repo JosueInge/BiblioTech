{
  "nbformat": 4,
  "nbformat_minor": 0,
  "metadata": {
    "colab": {
      "provenance": [],
      "authorship_tag": "ABX9TyMQeKM9fPJdrj2yUWuOJKUt",
      "include_colab_link": true
    },
    "kernelspec": {
      "name": "python3",
      "display_name": "Python 3"
    },
    "language_info": {
      "name": "python"
    }
  },
  "cells": [
    {
      "cell_type": "markdown",
      "metadata": {
        "id": "view-in-github",
        "colab_type": "text"
      },
      "source": [
        "<a href=\"https://colab.research.google.com/github/JosueInge/BiblioTech/blob/master/Fundamentos_de_Python.ipynb\" target=\"_parent\"><img src=\"https://colab.research.google.com/assets/colab-badge.svg\" alt=\"Open In Colab\"/></a>"
      ]
    },
    {
      "cell_type": "code",
      "execution_count": null,
      "metadata": {
        "id": "V3hpzQye4Jbe",
        "colab": {
          "base_uri": "https://localhost:8080/"
        },
        "outputId": "ea3615b9-0201-45a1-bb26-ebdaf5e917b4"
      },
      "outputs": [
        {
          "output_type": "stream",
          "name": "stdout",
          "text": [
            "Hola mundo\n",
            "Hola  Wilfredo Josue , inicial:  W e\n"
          ]
        }
      ],
      "source": [
        "print(\"Hola mundo\")\n",
        "nombre = \"Wilfredo Josue\"\n",
        "\n",
        "print(\"Hola \", nombre, \", inicial: \", nombre[0], nombre[5])"
      ]
    },
    {
      "cell_type": "markdown",
      "source": [
        "EJERCICIO, crear un programa en python que sume dos numeros"
      ],
      "metadata": {
        "id": "toO066df9fnp"
      }
    },
    {
      "cell_type": "markdown",
      "source": [
        "**texto en negrita**"
      ],
      "metadata": {
        "id": "2qY6wu1H9hs3"
      }
    },
    {
      "cell_type": "code",
      "source": [
        "num1 = 5\n",
        "num2 = 9.5\n",
        "resp = num1 + num2\n",
        "print(\"La suma es: \", resp)"
      ],
      "metadata": {
        "colab": {
          "base_uri": "https://localhost:8080/"
        },
        "id": "R44Ww0My9zyh",
        "outputId": "ebe1c190-8b3b-4942-f66a-4e2e414a904e"
      },
      "execution_count": null,
      "outputs": [
        {
          "output_type": "stream",
          "name": "stdout",
          "text": [
            "La suma es:  14.5\n"
          ]
        }
      ]
    },
    {
      "cell_type": "markdown",
      "source": [
        "EJERCICIO, crear un programa en python que sume dos numeros introducidos por el usuario"
      ],
      "metadata": {
        "id": "IN_BxZpz_UJp"
      }
    },
    {
      "cell_type": "code",
      "source": [
        "print(\"Num 1\")\n",
        "num1 = int (input())\n",
        "\n",
        "print(\"Num 2\")\n",
        "num2 = int (input())\n",
        "\n",
        "resp = num1 + num2\n",
        "print(\"La suma es: \", resp)"
      ],
      "metadata": {
        "colab": {
          "base_uri": "https://localhost:8080/"
        },
        "id": "6y7kUM0y_kee",
        "outputId": "97a51d2a-c48f-4a0d-e1e3-8ea885310d99"
      },
      "execution_count": null,
      "outputs": [
        {
          "output_type": "stream",
          "name": "stdout",
          "text": [
            "Num 1\n",
            "2\n",
            "Num 2\n",
            "2\n",
            "La suma es:  4\n"
          ]
        }
      ]
    },
    {
      "cell_type": "code",
      "source": [
        "#Tipos de datos\n",
        "num1 = 5\n",
        "num2 = 5.9\n",
        "nombre = \"Wilfredo Josue\"\n",
        "print(nombre[0:4], nombre[2:4], nombre[-5], nombre[5:len(nombre)])\n",
        "\n",
        "estado = False\n",
        "print(estado)\n",
        "\n",
        "print(type(nombre), type(num1), type(num2), type(estado) )"
      ],
      "metadata": {
        "colab": {
          "base_uri": "https://localhost:8080/"
        },
        "id": "8vvTWeWPCAIm",
        "outputId": "11dfd329-57bd-4cae-9bfd-b3aeed318659"
      },
      "execution_count": null,
      "outputs": [
        {
          "output_type": "stream",
          "name": "stdout",
          "text": [
            "Wilf lf J edo Josue\n",
            "False\n",
            "<class 'str'> <class 'int'> <class 'float'> <class 'bool'>\n"
          ]
        }
      ]
    },
    {
      "cell_type": "markdown",
      "source": [
        "EJERCICIO, crear un programa en python que lea un numero y determine si es par o impar."
      ],
      "metadata": {
        "id": "p4_8ZisPElRP"
      }
    },
    {
      "cell_type": "code",
      "source": [
        "num = int(input(\"Ingrese un numero: \"))\n",
        "if num % 2 == 0:\n",
        "  print(\"El numero es par\", num)\n",
        "else:\n",
        "  print(\"El numero es impar\")"
      ],
      "metadata": {
        "id": "NqqsMBTXEthz",
        "colab": {
          "base_uri": "https://localhost:8080/"
        },
        "outputId": "14719f57-9bd6-4a5b-9765-5390238e1112"
      },
      "execution_count": null,
      "outputs": [
        {
          "output_type": "stream",
          "name": "stdout",
          "text": [
            "Ingrese un numero: 2\n",
            "El numero es par 2\n"
          ]
        }
      ]
    },
    {
      "cell_type": "markdown",
      "source": [
        "EJERCICIO: Uso de las funciones de usuario, con la suma de dos numeros.\n",
        "\n"
      ],
      "metadata": {
        "id": "vb1FIgxcKKtZ"
      }
    },
    {
      "cell_type": "code",
      "source": [
        "def suma(num1, num2):\n",
        "  return num1 + num2\n",
        "\n",
        "\n",
        "num1 = float(input(\"Num 1: \"))\n",
        "num2 = float(input(\"Num 2: \"))\n",
        "\n",
        "resp = suma(num1, num2)\n",
        "print(\"La suma es: \", resp)"
      ],
      "metadata": {
        "id": "VyNl0cppKMPT"
      },
      "execution_count": null,
      "outputs": []
    },
    {
      "cell_type": "markdown",
      "source": [
        "Convertir grados Farenheis a Celsius"
      ],
      "metadata": {
        "id": "Ts3sn4La3C1L"
      }
    },
    {
      "cell_type": "code",
      "source": [
        "def fahrenheit_to_celsius(fahrenheit):\n",
        " \"\"\"Convierte grados Fahrenheit a Celsius.\"\"\"\n",
        " celsius = (fahrenheit - 32) * 5.0/9.0\n",
        " return celsius\n",
        "\n",
        "try:\n",
        "  fahrenheit = float(input(\"Ingrese grados Fahrenheit: \"))\n",
        "  celsius = fahrenheit_to_celsius(fahrenheit)\n",
        "  print(f\"{fahrenheit} grados Fahrenheit son {celsius:.2f} grados Celsius.\")\n",
        "except ValueError:\n",
        "  print(\"Por favor, ingrese un valor numérico válido.\")\n"
      ],
      "metadata": {
        "colab": {
          "base_uri": "https://localhost:8080/"
        },
        "id": "sKe8u_nb3IZb",
        "outputId": "73c37ae5-94ce-4b0c-ff3c-2089e4570df6"
      },
      "execution_count": null,
      "outputs": [
        {
          "output_type": "stream",
          "name": "stdout",
          "text": [
            "Ingrese grados Fahrenheit: 34\n",
            "34.0 grados Fahrenheit son 1.11 grados Celsius.\n"
          ]
        }
      ]
    },
    {
      "cell_type": "markdown",
      "source": [
        "Convertir grados Fahrenheit y Celsius a Kelvin\n",
        "\n",
        "1.   Elemento de lista\n",
        "2.   Elemento de lista\n",
        "\n"
      ],
      "metadata": {
        "id": "TRPxfQK3DwEw"
      }
    },
    {
      "cell_type": "code",
      "source": [
        "def fahrenheit_to_kelvin(fahrenheit):\n",
        " \"\"\"Convierte grados Fahrenheit a Kelvin.\"\"\"\n",
        " kelvin = (fahrenheit - 32) * 5.0 + 273.15\n",
        " return kelvin\n",
        "\n",
        "try:\n",
        "  fahrenheit = float(input(\"Ingrese grados Fahrenheit: \"))\n",
        "  kelvin = fahrenheit_to_kelvin(fahrenheit)\n",
        "  print(f\"{fahrenheit} grados Fahrenheit son {kelvin:.2f} grados Kelvin.\")\n",
        "except ValueError:\n",
        "  print(\"Por favor, ingrese un valor numérico válido.\")\n",
        "\n",
        "def celsius_to_kelvin(Celsius):\n",
        " \"\"\"Convierte grados Celsius a Kelvin.\"\"\"\n",
        " kelvin = celsius + 273.15\n",
        " return kelvin\n",
        "\n",
        "try:\n",
        "  celsius = float(input(\"Ingrese grados celsius: \"))\n",
        "  kelvin = celsius_to_kelvin(celsius)\n",
        "  print(f\"{celsius} grados celsius son {kelvin:.2f} grados Kelvin.\")\n",
        "except ValueError:\n",
        "  print(\"Por favor, ingrese un valor numérico válido.\")"
      ],
      "metadata": {
        "id": "TFQ5DNO9El7t",
        "colab": {
          "base_uri": "https://localhost:8080/"
        },
        "outputId": "5439e925-0c1f-4da0-b421-a658e440b6c8"
      },
      "execution_count": null,
      "outputs": [
        {
          "output_type": "stream",
          "name": "stdout",
          "text": [
            "Ingrese grados Fahrenheit: 32\n",
            "32.0 grados Fahrenheit son 273.15 grados Kelvin.\n"
          ]
        }
      ]
    },
    {
      "cell_type": "markdown",
      "source": [
        "EJERCICIO: Elevar un numero al cuadrado."
      ],
      "metadata": {
        "id": "izgSnLit6CfB"
      }
    },
    {
      "cell_type": "markdown",
      "source": [
        "EJERCICIO: Calcular el sueldo de un trabajador"
      ],
      "metadata": {
        "id": "J6t_SHPvKpRU"
      }
    },
    {
      "cell_type": "code",
      "source": [
        "ef sueldo(numHrs, valorXHrs):\n",
        "  sueldo = numHrs * valorXHrs * 30 # 10*1.5*30 = 450\n",
        "  if(numHrs>8):\n",
        "    sueldo = sueldo + (numHrs-8) * valorXHrs * 30 # 2*1.5*30 = 90\n",
        "  return sueldo\n",
        "\n",
        "\n",
        "numHrs = int(input(\"Horas: \"))\n",
        "valorXHrs = float(input(\"Valor: \"))\n",
        "\n",
        "print(\"Sueldo: \", sueldo(numHrs, valorXHrs))"
      ],
      "metadata": {
        "id": "19Ql-Tm6KufV"
      },
      "execution_count": null,
      "outputs": []
    },
    {
      "cell_type": "markdown",
      "source": [
        "EJERCICIO: Elevar un numero al cuadrado"
      ],
      "metadata": {
        "id": "cUjWnQBrLpvY"
      }
    },
    {
      "cell_type": "code",
      "source": [
        "def elevarCuadrado(base,exponente):\n",
        "  return base**exponente\n",
        "\n",
        "num = int(input(\"Num:\"))\n",
        "print(\"Cuadrado: \", elevarCuadrado(num, 3))"
      ],
      "metadata": {
        "colab": {
          "base_uri": "https://localhost:8080/"
        },
        "id": "0-UDQrIM6I_u",
        "outputId": "5cc045f4-7a08-4199-9495-df3264f2e315"
      },
      "execution_count": 4,
      "outputs": [
        {
          "output_type": "stream",
          "name": "stdout",
          "text": [
            "Num:2\n",
            "Cuadrado:  8\n"
          ]
        }
      ]
    },
    {
      "cell_type": "markdown",
      "source": [
        "USANDO FUNCIONES LAMBDA"
      ],
      "metadata": {
        "id": "8GV3TXaG8-D4"
      }
    },
    {
      "cell_type": "code",
      "source": [
        "elevarCuadradoLambda  = lambda base, exponente: base**exponente\n",
        "\n",
        "valor = int(input(\"Num: \"))\n",
        "print(\"Cuadrado: \", elevarCuadradoLambda(valor, 2))"
      ],
      "metadata": {
        "colab": {
          "base_uri": "https://localhost:8080/"
        },
        "id": "-iSJhh7L9Dwt",
        "outputId": "fdfb7ffe-a1aa-4378-c071-69d323dc1c70"
      },
      "execution_count": null,
      "outputs": [
        {
          "output_type": "stream",
          "name": "stdout",
          "text": [
            "Num: 3\n",
            "Cuadrado:  9\n"
          ]
        }
      ]
    },
    {
      "cell_type": "code",
      "source": [
        "serie = [5,4,3,2,6,7]\n",
        "resp = map(lambda x: x**2, serie)\n",
        "print(list(resp))\n",
        "\n",
        "resp2 = map(elevarCuadrado, serie)\n",
        "print(list(resp2))"
      ],
      "metadata": {
        "colab": {
          "base_uri": "https://localhost:8080/"
        },
        "id": "CSZUpS9q_iax",
        "outputId": "b4e625fc-cf42-497d-e373-6578352deda4"
      },
      "execution_count": null,
      "outputs": [
        {
          "output_type": "stream",
          "name": "stdout",
          "text": [
            "[25, 16, 9, 4, 36, 49]\n"
          ]
        }
      ]
    },
    {
      "cell_type": "markdown",
      "source": [
        "EJERCICIO: Obtener la raiz cuadrada de una serie de numeros fijos."
      ],
      "metadata": {
        "id": "gk5m36CBCuhE"
      }
    },
    {
      "cell_type": "code",
      "source": [
        "serie = [4, 36, 64, 25, 12]\n",
        "resp = map(lambda x: x**0.5, serie)\n",
        "print(list(resp))"
      ],
      "metadata": {
        "colab": {
          "base_uri": "https://localhost:8080/"
        },
        "id": "M2uaVu9gC02l",
        "outputId": "f3788fc9-014b-4baa-bfb0-3f79699c35f4"
      },
      "execution_count": null,
      "outputs": [
        {
          "output_type": "stream",
          "name": "stdout",
          "text": [
            "[2.0, 6.0, 8.0, 5.0, 3.4641016151377544]\n"
          ]
        }
      ]
    },
    {
      "cell_type": "markdown",
      "source": [
        "[2, 4, 6, 8, 10, 12, 14, 16, 18]"
      ],
      "metadata": {
        "id": "gKV0BPr8M1pI"
      }
    },
    {
      "cell_type": "code",
      "source": [
        "numeros = [1,2,3,4,5,6,7,8,9, 10]\n",
        "ntabla = int(input(\"Tabla: \"))\n",
        "print(list(map(lambda n: n*ntabla, numeros))) #tabla de multiplicar"
      ],
      "metadata": {
        "id": "KSHIWOFwM5AN"
      },
      "execution_count": null,
      "outputs": []
    },
    {
      "cell_type": "markdown",
      "source": [
        "Tabla: 7\n",
        "[7, 14, 21, 28, 35, 42, 49, 56, 63, 70]"
      ],
      "metadata": {
        "id": "0eNH6bv6M9h6"
      }
    },
    {
      "cell_type": "code",
      "source": [
        "numeros = [1,2,3,4,5,6,7,8,9,10]\n",
        "print(\"Pares: \", list(filter(lambda n: n%2==0, numeros))) #obtener solo los numeros pares.\n",
        "print(\"Impares: \", list(filter(lambda n: n%2!=0, numeros))) #obtener solo los numeros impares"
      ],
      "metadata": {
        "id": "mWcY0ysdM-Nc"
      },
      "execution_count": null,
      "outputs": []
    },
    {
      "cell_type": "markdown",
      "source": [
        "Pares:  [2, 4, 6, 8, 10]\n",
        "Impares:  [1, 3, 5, 7, 9]"
      ],
      "metadata": {
        "id": "zN6y29-UNDih"
      }
    },
    {
      "cell_type": "code",
      "source": [
        "notas = [8,4,9,10,7,6,9,10,2,3,1,8,2,9]\n",
        "print(\"Aprobados: \", list(filter(lambda n: n>=6, notas)))\n",
        "print(\"Reprobados: \", list(filter(lambda n: n<6, notas)))"
      ],
      "metadata": {
        "id": "2-PX4VhJNLOD"
      },
      "execution_count": null,
      "outputs": []
    },
    {
      "cell_type": "markdown",
      "source": [
        "Aprobados:  [8, 9, 10, 7, 6, 9, 10, 8, 9]\n",
        "Reprobados:  [4, 2, 3, 1, 2]"
      ],
      "metadata": {
        "id": "Tl9UnGI1NXh5"
      }
    },
    {
      "cell_type": "code",
      "source": [
        "from functools import reduce\n",
        "numeros = [7,8,9,10]\n",
        "print(\"Suma: \", reduce(lambda n, acum: n+acum, numeros))"
      ],
      "metadata": {
        "id": "MvGT0GVXNaCv"
      },
      "execution_count": null,
      "outputs": []
    },
    {
      "cell_type": "markdown",
      "source": [
        "Suma:  34"
      ],
      "metadata": {
        "id": "MkTzNmk8NfL-"
      }
    },
    {
      "cell_type": "code",
      "source": [
        "Num Mayor:  10\n",
        "Num Menor:  1"
      ],
      "metadata": {
        "id": "0Oe9kgsrNjux"
      },
      "execution_count": null,
      "outputs": []
    },
    {
      "cell_type": "markdown",
      "source": [
        "TUPLAS"
      ],
      "metadata": {
        "id": "9R8kDl4vNm4H"
      }
    },
    {
      "cell_type": "code",
      "source": [
        "numeros = (5,8,7,9,5,4,7)\n",
        "print(\"Tupla: \", numeros, \"Primer: \", numeros[0], \"Ultimo: \", numeros[-1], \"Rango: 2-6 \", numeros[2:6])\n",
        "print(numeros.count(5))"
      ],
      "metadata": {
        "id": "lbc81lpwNoGv"
      },
      "execution_count": null,
      "outputs": []
    },
    {
      "cell_type": "markdown",
      "source": [
        "Tupla:  (5, 8, 7, 9, 5, 4, 7) Primer:  5 Ultimo:  7 Rango: 2-6  (7, 9, 5, 4)\n",
        "2"
      ],
      "metadata": {
        "id": "jDB7AkNDN5LF"
      }
    },
    {
      "cell_type": "code",
      "source": [
        "semana = (\"domingo\", \"lunes\", \"martes\", \"miercoles\", \"jueves\", \"viernes\", \"sabado\")\n",
        "print(\"Primer dia: \",semana[0], \"; Cuantas veces repite domingo: \",semana.count(\"domingo\"), \"; dias de la seman: \", len(semana))"
      ],
      "metadata": {
        "colab": {
          "base_uri": "https://localhost:8080/"
        },
        "id": "PLcLakwLN7I1",
        "outputId": "ddb2947d-8146-4de5-fbeb-ec5c826e9876"
      },
      "execution_count": 5,
      "outputs": [
        {
          "output_type": "stream",
          "name": "stdout",
          "text": [
            "Primer dia:  domingo ; Cuantas veces repite domingo:  1 ; dias de la seman:  7\n"
          ]
        }
      ]
    },
    {
      "cell_type": "markdown",
      "source": [
        "Primer dia:  domingo ; Cuantas veces repite domingo:  1 ; dias de la seman:  7\n"
      ],
      "metadata": {
        "id": "IqkvUc2IODAO"
      }
    },
    {
      "cell_type": "code",
      "source": [
        "import datetime\n",
        "hoy = datetime.date.today()\n",
        "dia = hoy.day\n",
        "mes = hoy.month\n",
        "year = hoy.year\n",
        "dia_semana = hoy.isoweekday()\n",
        "\n",
        "semana = (\"domingo\",\"lunes\",\"martes\",\"miercoles\",\"jueves\", \"viernes\", \"sabado\")\n",
        "meses = (\"enero\", \"febrero\", \"marzo\", \"abril\", \"mayo\", \"junio\", \"julio\", \"agosto\", \"septiembre\", \"octubre\", \"noviembre\", \"diciembre\")\n",
        "\n",
        "print(\"Fecha: \", semana[dia_semana], dia, \" de \", meses[mes], \" del \", year)"
      ],
      "metadata": {
        "id": "BM_TW05-ODwl"
      },
      "execution_count": null,
      "outputs": []
    },
    {
      "cell_type": "markdown",
      "source": [
        "Fecha:  lunes 29  de  agosto  del  2024"
      ],
      "metadata": {
        "id": "Mfpz0YJJOHxE"
      }
    },
    {
      "cell_type": "code",
      "source": [
        "tuplas = (\"Luis\",\"Juan\")\n",
        "#tuplas[0] = \"Pedro\" #Las tuplas son inmutables, no puede cambiar su valor.\n",
        "print(tuplas)\n",
        "\n",
        "listas = [\"Luis\",\"Juan\"]\n",
        "listas[0] = \"Pedro\" #Las listas son mutables, si puede cambiar su valor.\n",
        "print(listas)"
      ],
      "metadata": {
        "id": "eBcjc-uFOWZO"
      },
      "execution_count": null,
      "outputs": []
    },
    {
      "cell_type": "markdown",
      "source": [
        "\n",
        "LISTAS"
      ],
      "metadata": {
        "id": "oiMCvzm8Oa_F"
      }
    },
    {
      "cell_type": "code",
      "source": [
        "listas = [5,8,7,9,\"Luis\", \"Jonathan\", \"Ramon\"]\n",
        "print(listas, listas[-1])"
      ],
      "metadata": {
        "id": "cPqV2L9xOcUf"
      },
      "execution_count": null,
      "outputs": []
    },
    {
      "cell_type": "code",
      "source": [
        "def obtenerNota(nota, eval):\n",
        "  return eval[1]*0.3 + nota"
      ],
      "metadata": {
        "id": "nqHzJdqBOjO9"
      },
      "execution_count": null,
      "outputs": []
    },
    {
      "cell_type": "code",
      "source": [
        "matriz = [ [\"Lab1\", 8],[\"Lab2\", 9], [\"Parcial\", 8] ] #8*0.3=2.4 + 9*0.3=2.7 + 8*0.3=2.4\n",
        "functools.reduce(obtenerNota, matriz, 0)"
      ],
      "metadata": {
        "id": "zJNRN0sAOlix"
      },
      "execution_count": null,
      "outputs": []
    },
    {
      "cell_type": "code",
      "source": [
        "serie = [1,2,3,3,4,4,1,8,9]\n",
        "print(serie.count(1))"
      ],
      "metadata": {
        "id": "s4MFmp42Onl9"
      },
      "execution_count": null,
      "outputs": []
    },
    {
      "cell_type": "code",
      "source": [
        "numeros = []\n",
        "for i in range(1,10):\n",
        "  numeros.append(int(input(\"Num: \"+ str(i)+\": \")))\n",
        "num = int(input(\"Num a buscar: \"))\n",
        "print(\"Serie: \", numeros, \"El numero \", num, \", se repite: \", numeros.count(num))"
      ],
      "metadata": {
        "id": "86bneOtkOxjH"
      },
      "execution_count": null,
      "outputs": []
    },
    {
      "cell_type": "markdown",
      "source": [
        "Num: 1: 1\n",
        "Num: 2: 8\n",
        "Num: 3: 6\n",
        "Num: 4: 4\n",
        "Num: 5: 2\n",
        "Num: 6: 1\n",
        "Num: 7: 2\n",
        "Num: 8: 3\n",
        "Num: 9: 1\n",
        "Num a buscar: 1\n",
        "Serie:  [1, 8, 6, 4, 2, 1, 2, 3, 1] El numero  1 , se repite:  3\n",
        "None"
      ],
      "metadata": {
        "id": "HDYxgguxO0a8"
      }
    },
    {
      "cell_type": "code",
      "source": [
        "numeros = [1,5,2,6,2,1,4]\n",
        "numeros.sort()\n",
        "numeros.reverse()\n",
        "print(numeros)"
      ],
      "metadata": {
        "id": "7tSJ8Iu3O3it"
      },
      "execution_count": null,
      "outputs": []
    },
    {
      "cell_type": "markdown",
      "source": [
        "DICCIONARIOS JSON"
      ],
      "metadata": {
        "id": "6UvD6H2bPOyB"
      }
    },
    {
      "cell_type": "code",
      "source": [
        "datos = {\n",
        "    \"codigo\":\"USIS018804\",\n",
        "    \"nombre\":\"Luis Hernandez\",\n",
        "    \"materias\":[\n",
        "        {\"codigo\":\"611\",\"nombre\":\"Programacion III\",\"notas\":{\n",
        "            \"c1\":{\"lab1\":8,\"lab2\":9,\"parcial\":10},\n",
        "            \"c2\":{\"lab1\":10,\"lab2\":9,\"parcial\":10},\n",
        "            \"c3\":{\"lab1\":4,\"lab2\":5,\"parcial\":8}\n",
        "            }\n",
        "         },\n",
        "        {\"codigo\":\"612\",\"nombre\":\"Base de Datos\"}\n",
        "    ]\n",
        "}\n",
        "print(datos[\"nombre\"], datos[\"materias\"][0][\"nombre\"], datos[\"materias\"][0][\"notas\"][\"c1\"])"
      ],
      "metadata": {
        "id": "jVURyMN2PQoi"
      },
      "execution_count": null,
      "outputs": []
    },
    {
      "cell_type": "markdown",
      "source": [
        "ESTRUCTURAS DE CONTROL IF Ejercicio: Solicitar la edad y realizar la clasificacion"
      ],
      "metadata": {
        "id": "slaziu_DPTeV"
      }
    },
    {
      "cell_type": "markdown",
      "source": [
        "Calcular las deducciones de la ley ISSS, AFP, ISR"
      ],
      "metadata": {
        "id": "aNV7tkxyLBrn"
      }
    },
    {
      "cell_type": "code",
      "source": [
        "def calcular_deducciones(sueldo):\n",
        "  # Calcular ISSS y AFP\n",
        "  isss = sueldo * 0.33\n",
        "  afp = sueldo * 0.0\n",
        "\n",
        "  # calcular el sueldo despues de deducir ISSS y AFP\n",
        "  resultado_de_la_resta_del_isss_afp_y_salario = sueldo - isss + afp\n",
        "\n",
        "  #determinar el tramo y calcular ISR\n",
        "  if resultado_de_la_resta_del_isss_afp_y_salario <= 472.00:\n",
        "    isr = 0\n",
        "  elif resultado_de_la_resta_del_isss_afp_y_salario <= 895.24:\n",
        "    exceso = resltado_de_la_resta_del_isss_y_salario - 472.00\n",
        "    isr = exceso * 0.20 + 17.67\n",
        "  elif resultado_de_la_resta_del_iss_afp_y_salario <= 2038.10:\n",
        "    exceso = resultado_de_la_resta_del_isss_afp_y_salario - 895.24\n",
        "    isr = exceso * 0.20 + 60.00\n",
        "  else:\n",
        "    exceso = resultado_de_la_resta_del_isss_afp_y_salario - 2038.10\n",
        "    isr = exceso *0.30 + 288.57\n",
        "\n",
        "  return isss, afp, isr\n",
        "\n",
        "# Solicitar el sueldo\n",
        "sueldo = float(input(\"Ingrese el sueldo: \"))\n",
        "\n",
        "# Calcular las deducciones\n",
        "isss, afp, isr = calcular_deducciones(sueldo)\n",
        "\n",
        "# Mostrar los resultados\n",
        "print(f\"Para un sueldo de $(sueldo):\")\n",
        "print(f\"ISSS: ${isss:.2f}\")\n",
        "print(f\"AFP: ${afp:.2f}\")\n",
        "print(f\"ISR: ${isr:.2f}\")\n"
      ],
      "metadata": {
        "colab": {
          "base_uri": "https://localhost:8080/"
        },
        "id": "xKgUUmT2Lcy5",
        "outputId": "a3fc22f3-bf1e-4a5b-ede9-55931f968438"
      },
      "execution_count": null,
      "outputs": [
        {
          "output_type": "stream",
          "name": "stdout",
          "text": [
            "Ingrese el sueldo: 45\n",
            "Para un sueldo de $(sueldo):\n",
            "ISSS: $14.85\n",
            "AFP: $0.00\n",
            "ISR: $0.00\n"
          ]
        }
      ]
    },
    {
      "cell_type": "markdown",
      "source": [
        "**ESTRUCTURAS DE CONTROL**\n",
        "\n",
        "IF\n",
        "\n",
        "Ejercicio: SOLICITAR AL USUARIO LA EDAD Y DETERMINAR SU CLASIFICACIÓN"
      ],
      "metadata": {
        "id": "pnJXnDecFqHL"
      }
    },
    {
      "cell_type": "code",
      "source": [
        "edad = int(input(\"Edad: \"))\n",
        "if edad>17:\n",
        "  print(\"Bienvenido al mundo de las responsabilidades\")"
      ],
      "metadata": {
        "colab": {
          "base_uri": "https://localhost:8080/"
        },
        "id": "cN8wWzp5FydS",
        "outputId": "e1a9fa6e-37ce-4e87-8c06-feb21c07874e"
      },
      "execution_count": null,
      "outputs": [
        {
          "output_type": "stream",
          "name": "stdout",
          "text": [
            "Edad: 19\n",
            "Bienvenido al mundo de las responsabilidades\n"
          ]
        }
      ]
    },
    {
      "cell_type": "code",
      "source": [
        "continuar = \"s\"\n",
        "while continuar==\"s\":\n",
        "  edad = int(input(\"Edad: \"))\n",
        "  if (edad<0):\n",
        "   print(\"Edad Incorrecta\")\n",
        "  elif edad<=2:\n",
        "   print(\"Eres un bebe\")\n",
        "  elif edad<12:\n",
        "    print(\"Eres un niño\")\n",
        "  elif edad<18:\n",
        "    print(\"Eres un adolecente\")\n",
        "  elif edad<65:\n",
        "    print(\"Eres un adulto\")\n",
        "  elif edad<65:\n",
        "    print(\"Eres un adulto mayor\")\n",
        "  else:\n",
        "    print(\"Larga vida\")\n",
        "  continuar = input(\"Continuar s, sino cualquier tecla\")"
      ],
      "metadata": {
        "colab": {
          "base_uri": "https://localhost:8080/"
        },
        "id": "2anAbN25HWQN",
        "outputId": "fe8d6bda-0a43-49fa-c263-0456c4ae142f"
      },
      "execution_count": null,
      "outputs": [
        {
          "name": "stdout",
          "output_type": "stream",
          "text": [
            "Edad: 67\n",
            "Larga vida\n",
            "Continuar s, sino cualquier tecla\n"
          ]
        }
      ]
    },
    {
      "cell_type": "markdown",
      "source": [
        "SOlicitar un numero y verificar si es positivo o negativo\n",
        "\n",
        "Solicitar una tabla de multiplicar y generaria"
      ],
      "metadata": {
        "id": "b91oOw-MOTpR"
      }
    },
    {
      "cell_type": "code",
      "source": [
        "continuar=\"s\"\n",
        "while continuar==\"s\":\n",
        "  tabla = int(input(\"Tabla:\"))\n",
        "  for i in range(1,11):\n",
        "    print(tabla, \"x\", i, \"=\", tabla*i)\n",
        "  continuar = input(\"Continuar s, sino cualquier tecla: \")"
      ],
      "metadata": {
        "colab": {
          "base_uri": "https://localhost:8080/"
        },
        "id": "uyVs8u9VIDEr",
        "outputId": "b4bed040-e5f2-4e1e-b693-d1235172470c"
      },
      "execution_count": null,
      "outputs": [
        {
          "name": "stdout",
          "output_type": "stream",
          "text": [
            "Tabla:2\n",
            "2 x 1 = 2\n",
            "2 x 2 = 4\n",
            "2 x 3 = 6\n",
            "2 x 4 = 8\n",
            "2 x 5 = 10\n",
            "2 x 6 = 12\n",
            "2 x 7 = 14\n",
            "2 x 8 = 16\n",
            "2 x 9 = 18\n",
            "2 x 10 = 20\n",
            "Continuar s, sino cualquier tecla: s\n",
            "Tabla:6\n",
            "6 x 1 = 6\n",
            "6 x 2 = 12\n",
            "6 x 3 = 18\n",
            "6 x 4 = 24\n",
            "6 x 5 = 30\n",
            "6 x 6 = 36\n",
            "6 x 7 = 42\n",
            "6 x 8 = 48\n",
            "6 x 9 = 54\n",
            "6 x 10 = 60\n",
            "Continuar s, sino cualquier tecla: s\n",
            "Tabla:8\n",
            "8 x 1 = 8\n",
            "8 x 2 = 16\n",
            "8 x 3 = 24\n",
            "8 x 4 = 32\n",
            "8 x 5 = 40\n",
            "8 x 6 = 48\n",
            "8 x 7 = 56\n",
            "8 x 8 = 64\n",
            "8 x 9 = 72\n",
            "8 x 10 = 80\n",
            "Continuar s, sino cualquier tecla: \n"
          ]
        }
      ]
    },
    {
      "cell_type": "markdown",
      "source": [
        "EJERCICIO Escriba un programa que lea una serie de numeros introducidos por el usuario, y determine la media aritmetica."
      ],
      "metadata": {
        "id": "itGziwLPP3Q-"
      }
    },
    {
      "cell_type": "code",
      "source": [
        "from math import sqrt\n",
        "\n",
        "class estadistica:\n",
        "  def media(self, serie):\n",
        "    suma = 0\n",
        "    for num in serie:\n",
        "      suma += num\n",
        "    return suma/len(serie)\n",
        "\n",
        "  def tipica(self, serie):\n",
        "    media = self.media(serie)\n",
        "    suma = 0\n",
        "    for num in serie:\n",
        "      suma += (num-media)**2\n",
        "    return sqrt(suma/len(serie))\n",
        "\n",
        "\n",
        "n = int(input(\"Cuantos numeros va a ingresar: \"))\n",
        "serie = []\n",
        "for num in range(1,n+1):\n",
        "  serie.append(int(input(\"Num: \")))\n",
        "\n",
        "objEstadistica = estadistica()\n",
        "print(\"La media es: \", objEstadistica.media(serie))\n",
        "\n",
        "print(\"La desviacion tipica es: \", round(objEstadistica.tipica(serie),3) )"
      ],
      "metadata": {
        "colab": {
          "base_uri": "https://localhost:8080/"
        },
        "id": "vcgzcjAuP3uN",
        "outputId": "b86022b8-d23b-4ae4-d5cd-e9af084f0896"
      },
      "execution_count": 6,
      "outputs": [
        {
          "output_type": "stream",
          "name": "stdout",
          "text": [
            "Cuantos numeros va a ingresar: 2\n",
            "Num: 3\n",
            "Num: 4\n",
            "La media es:  3.5\n",
            "La desviacion tipica es:  0.5\n"
          ]
        }
      ]
    }
  ]
}