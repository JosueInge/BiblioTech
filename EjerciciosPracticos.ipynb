{
  "nbformat": 4,
  "nbformat_minor": 0,
  "metadata": {
    "colab": {
      "provenance": [],
      "authorship_tag": "ABX9TyMN+e4kIYwN03ZCQS2cnuGW",
      "include_colab_link": true
    },
    "kernelspec": {
      "name": "python3",
      "display_name": "Python 3"
    },
    "language_info": {
      "name": "python"
    }
  },
  "cells": [
    {
      "cell_type": "markdown",
      "metadata": {
        "id": "view-in-github",
        "colab_type": "text"
      },
      "source": [
        "<a href=\"https://colab.research.google.com/github/JosueInge/BiblioTech/blob/master/EjerciciosPracticos.ipynb\" target=\"_parent\"><img src=\"https://colab.research.google.com/assets/colab-badge.svg\" alt=\"Open In Colab\"/></a>"
      ]
    },
    {
      "cell_type": "code",
      "execution_count": null,
      "metadata": {
        "id": "9YcwE50WFOme"
      },
      "outputs": [],
      "source": [
        "Calcular sobre el sueldo las deducciones por la ley ISSS, AFP, ISR e imprima el total deducciones y sueldo neto."
      ]
    },
    {
      "cell_type": "code",
      "source": [
        "def calcular_deducciones(sueldo):\n",
        "    \" Calcular ISSS y AFP \"\n",
        "    isss = sueldo * 0.03\n",
        "    afp = sueldo * 0.0725\n",
        "\n",
        "    \" Calcular el sueldo después de deducir ISSS y AFP\"\n",
        "    resultado_de_la_resta_del_isss_afp_y_salario = sueldo - (isss + afp)\n",
        "\n",
        "    \" Determinar el tramo y calcular ISR según la tabla proporcionada \"\n",
        "    if resultado_de_la_resta_del_isss_afp_y_salario <= 472.00:\n",
        "        isr = 0  # 1er tramo sin retención\n",
        "    elif resultado_de_la_resta_del_isss_afp_y_salario <= 895.24:\n",
        "        exceso = resultado_de_la_resta_del_isss_afp_y_salario - 472.00\n",
        "        isr = exceso * 0.10 + 17.67  # 2do tramo\n",
        "    elif resultado_de_la_resta_del_isss_afp_y_salario <= 2038.10:\n",
        "        exceso = resultado_de_la_resta_del_isss_afp_y_salario - 895.24\n",
        "        isr = exceso * 0.20 + 60.00  # 3er tramo\n",
        "    else:\n",
        "        exceso = resultado_de_la_resta_del_isss_afp_y_salario - 2038.10\n",
        "        isr = exceso * 0.30 + 288.57  # 4to tramo\n",
        "\n",
        "    return isss, afp, isr\n",
        "\n",
        "sueldo = float(input(\"Introduce tu sueldo: \"))\n",
        "\n",
        "\"Calcular las deducciones\"\n",
        "isss, afp, isr = calcular_deducciones(sueldo)\n",
        "\n",
        "\"Calcular el total de deducciones\"\n",
        "total_deducciones = isss + afp + isr\n",
        "\n",
        "\"Calcular el sueldo neto\"\n",
        "sueldo_neto = sueldo - total_deducciones\n",
        "\n",
        "print(f\"Para un sueldo de ${sueldo:.2f}:\")\n",
        "print(f\"ISSS: ${isss:.2f}\")\n",
        "print(f\"AFP: ${afp:.2f}\")\n",
        "print(f\"ISR: ${isr:.2f}\")\n",
        "print(f\"Total deducciones: ${total_deducciones:.2f}\")\n",
        "print(f\"Sueldo neto: ${sueldo_neto:.2f}\")"
      ],
      "metadata": {
        "id": "uErEQmorFjZh",
        "colab": {
          "base_uri": "https://localhost:8080/"
        },
        "outputId": "9526f575-ee76-44b9-eb91-1faf6ed24e2c"
      },
      "execution_count": 3,
      "outputs": [
        {
          "output_type": "stream",
          "name": "stdout",
          "text": [
            "Introduce tu sueldo: 7\n",
            "Para un sueldo de $7.00:\n",
            "ISSS: $0.21\n",
            "AFP: $0.51\n",
            "ISR: $0.00\n",
            "Total deducciones: $0.72\n",
            "Sueldo neto: $6.28\n"
          ]
        }
      ]
    },
    {
      "cell_type": "markdown",
      "source": [
        "Calcular el valor a pagar segun el numero de metros consumidos de agua potable."
      ],
      "metadata": {
        "id": "PpXald-zFmFX"
      }
    },
    {
      "cell_type": "code",
      "source": [
        "def calcular_pago_agua(metros_consumidos):\n",
        "    if metros_consumidos <= 18:\n",
        "        \"Cuota fija para consumo entre 1 y 18 metros cúbicos\"\n",
        "        total_a_pagar = 6.00\n",
        "    elif metros_consumidos <= 28:\n",
        "        \"Calcular el exceso para consumo entre 19 y 28 metros cúbicos\"\n",
        "        exceso = metros_consumidos - 18\n",
        "        total_a_pagar = 6.00 + (exceso * 0.45)\n",
        "    else:\n",
        "        \"Calcular el exceso para consumo de 29 metros cúbicos en adelante\"\n",
        "        exceso = metros_consumidos - 28\n",
        "        total_a_pagar = 6.00 + (10 * 0.45) + (exceso * 0.65)\n",
        "\n",
        "    return total_a_pagar\n",
        "\n",
        "metros_consumidos = float(input(\"Introduce los metros cúbicos consumidos: \"))\n",
        "total_a_pagar = calcular_pago_agua(metros_consumidos)\n",
        "\n",
        "print(f\"El total a pagar por {metros_consumidos} metros cúbicos es: ${total_a_pagar:.2f}\")"
      ],
      "metadata": {
        "id": "iHSlHKEofgly",
        "colab": {
          "base_uri": "https://localhost:8080/"
        },
        "outputId": "5cb45670-f1de-4ed3-91a0-d96d50fdeae3"
      },
      "execution_count": 4,
      "outputs": [
        {
          "output_type": "stream",
          "name": "stdout",
          "text": [
            "Introduce los metros cúbicos consumidos: 38\n",
            "El total a pagar por 38.0 metros cúbicos es: $17.00\n"
          ]
        }
      ]
    },
    {
      "cell_type": "markdown",
      "source": [
        "Dessarrolle la tabla de meses acumulados a meses."
      ],
      "metadata": {
        "id": "dr1iabIjFxY2"
      }
    },
    {
      "cell_type": "code",
      "source": [
        "def suma_acumulada(n):\n",
        "    \" fórmula matemática \"\n",
        "    acumulacion = n * (n + 1) // 2\n",
        "    return acumulacion\n",
        "\n",
        "meses = int(input(\"\"\"Introduce el número de meses:\n",
        "\"\"\"))\n",
        "acumulacion_total = suma_acumulada(meses)\n",
        "\n",
        "print(f\"La acumulación total para {meses} meses es: {acumulacion_total}\")"
      ],
      "metadata": {
        "colab": {
          "base_uri": "https://localhost:8080/"
        },
        "id": "znnJtxPFi80m",
        "outputId": "b0de4549-71d6-4c83-c873-7710493e85fa"
      },
      "execution_count": null,
      "outputs": [
        {
          "output_type": "stream",
          "name": "stdout",
          "text": [
            "Introduce el número de meses:\n",
            "4\n",
            "La acumulación total para 4 meses es: 10\n"
          ]
        }
      ]
    },
    {
      "cell_type": "markdown",
      "source": [
        "Conversores: Monedas, Longitud, Masa, Almacenamiento, Tiempo, Volumen, Area.(Realizar un conversor propio, donde especifiqué el valor de conversión)"
      ],
      "metadata": {
        "id": "m5d0LGx9F7Ww"
      }
    },
    {
      "cell_type": "markdown",
      "source": [
        "Desarrollar un conversor de monedas:\n",
        "- Convertir USD a Quetzal guatemalteco\n",
        "- Convertir USD a Lempira Hondureño\n",
        "- Convertir USD a Cordoba Nicaraguense\n",
        "- Convertir USD a Coor costarricense\n",
        "- Convertir USD a Balboa Panameño\n",
        "- Convertir Quetzal guatemalteco a USD\n",
        "- Convertir Lempira hondureño a USD\n",
        "- Convertir Córdoba nicaragüense a USD\n",
        "- Convertir Colón costarricense a USD\n",
        "- Convertir Balboa panameño a USD\n",
        "\n",
        "# Diccionario de tipos de cambio (valores de ejemplo, deberías actualizarlos con datos reales)\n",
        "tipos_de_cambio = {\n",
        "    'USD': 1.0,  # Base\n",
        "    'GTQ': 7.75,\n",
        "    'HNL': 24.45,\n",
        "    'NIO': 36.50,\n",
        "    'CRC': 610.00,\n",
        "    'PAB': 1.00\n",
        "}\n",
        "\n"
      ],
      "metadata": {
        "id": "evuHXXtulxUH"
      }
    },
    {
      "cell_type": "code",
      "source": [
        "# Diccionario de tipos de cambio (valores de ejemplo, deberías actualizarlos con datos reales)\n",
        "tipos_de_cambio = {\n",
        "  'USD': 1.0,  # Base\n",
        "  'GTQ': 7.75,\n",
        "  'HNL': 24.45,\n",
        "  'NIO': 36.50,\n",
        "  'CRC': 610.00,\n",
        "  'PAB': 1.00\n",
        "}\n",
        "\n",
        "def convertir_moneda(cantidad, moneda_origen, moneda_destino):\n",
        "  if moneda_origen not in tipos_de_cambio or moneda_destino not in tipos_de_cambio:\n",
        "    print(\"Moneda no soportada.\")\n",
        "    return None\n",
        "  cantidad_usd = cantidad / tipos_de_cambio[moneda_origen]\n",
        "  moneda_destino = cantidad_usd * tipos_de_cambio[moneda_destino]\n",
        "  return moneda_destino\n",
        "\n",
        "  opcion = int(input(\"\"\"Seleccione una opcion: \"\"\"))\n",
        "  moneda_origen =''\n",
        "  moneda_destino =''\n",
        "\n",
        "  if opcion == 1:\n",
        "    moneda_origen = 'USD'\n",
        "    moneda_destino = 'GTQ'\n",
        "  elif opcion == 2:\n",
        "    moneda_orogen = 'USD'\n",
        "    moneda_destino = 'HNL'\n",
        "  elif opcion == 3:\n",
        "    moneda_origen = 'USD'\n",
        "    moneda_destino = 'NIO'\n",
        "  elif opcion == 4:\n",
        "    moneda_origen = 'USD'\n",
        "    moneda_destino = 'CRC'\n",
        "  elif opcion == 5:\n",
        "    moneda_origen = 'USD'\n",
        "    moneda_destino = 'PAB'\n",
        "  elif opcion == 6:\n",
        "    moneda_origen = 'GTQ'\n",
        "    monesa_destino = 'USD'\n",
        "  elif opcion == 7:\n",
        "    moneda_origen = 'HNL'\n",
        "    monesa_destino = 'USD'\n",
        "  elif opcion == 8:\n",
        "    moneda_origen = 'NIO'\n",
        "    moneda_origen = 'USD'\n",
        "  elif opcion == 9:\n",
        "    monesa_origen = 'CRC'\n",
        "    moneda_destino = 'USD'\n",
        "  elif opcion == 10:\n",
        "    moneda_origen = 'PAB'\n",
        "    moneda_destino = 'USD'\n",
        "  else:\n",
        "    print(\"Opcion no valida. Por favor, seleccione una opcion del 1 al 10\")\n",
        "    exit()\n",
        "\n",
        "  cantidad = float(input(\"\"\"Ingrese la cantidad a convertir: \"\"\"))\n",
        "\n",
        "  resultado = convertir_moneda(cantidad, moneda_origen, moneda_destino)\n",
        "  print(f\"Resultado:{resultado:.2f} {moneda_destino}\\n\")"
      ],
      "metadata": {
        "id": "F4uAZdTzll_s"
      },
      "execution_count": null,
      "outputs": []
    },
    {
      "cell_type": "markdown",
      "source": [
        "Elaborar un conversor de Longitud\n",
        "1. Convertir de milímetros (mm) a centímetros (cm)\n",
        "2. Convertir de centímetros (cm) a metros (m)\n",
        "3. Convertir de metros (m) a kilómetros (km)\n",
        "4. Convertir de pulgadas (in) a pies (ft)\n",
        "5. Convertir de pies (ft) a yardas (yd)\n",
        "6. Convertir de millas (mi) a kilómetros (km)\"\"\")\n",
        "\n"
      ],
      "metadata": {
        "id": "x_vF4TPU041m"
      }
    },
    {
      "cell_type": "code",
      "source": [
        "def convertir_a_cm(cantidad):\n",
        "  return cantidad_mm * 0.1\n",
        "\n",
        "def convertir_a_metros(cantidad):\n",
        "  return cantidad_cm * 0.01\n",
        "\n",
        "def convertir_a_km(cantidad_m):\n",
        "  return cantidad_m / 1000\n",
        "\n",
        "  def convertir_a_ft(cantiidad_in):\n",
        "    return cantidad_in * 0.0833333\n",
        "\n",
        "  def convertr_a_yd(cantidad_ft):\n",
        "    return cantidad_mi * 1.60934\n",
        "\n",
        "  opcion = int(input(\"Ingrese la cantidad de milimetros (mm):\"))"
      ],
      "metadata": {
        "id": "aNRWdQPE1HDV"
      },
      "execution_count": null,
      "outputs": []
    },
    {
      "cell_type": "markdown",
      "source": [
        "Realizar un conversor propio, donde especifiqué el valor de conversión:\n",
        "• 1 caja -> 25 unidad. Viceversa 80 unidades – 3/5 -> cajas/unidades\n",
        "• 1 saco -> 50 libras. Viceversa 130 libras – 2/30 -> sacos/libras\n",
        "• 1 fardo -> 5 unidades. Viceversa 28 unidades – 5/3 -> fardos/unidades"
      ],
      "metadata": {
        "id": "STDBE1x-uAiP"
      }
    },
    {
      "cell_type": "code",
      "source": [
        "def convertir_caja_a_unidad(cantidad_caja):\n",
        "  return cantidad_caja * 25\n",
        "\n",
        "def convertir_unidad_a_caja (cantidad_unidad):\n",
        "  return cantidad_unidad / 25\n",
        "\n",
        "def convertir_saco_a_libra(cantidad_saco):\n",
        "  return cantidad_saco * 50\n",
        "\n",
        "def convertir_libra_a_saco(cantidad_libra):\n",
        "  return cantidad_libra / 50\n",
        "\n",
        "def convertir_fardo_a_unidad(cantidad_fardo):\n",
        "  return cantidad_fardo * 5\n",
        "\n",
        "def convertir_unidad_a_fardo(cantidad_unidad):\n",
        "  return cantidad_unidad / 5\n",
        "\n",
        "print( \"\"\"Seleccione una opcion:\n",
        "1. Convertir cajas a unidades\n",
        "2. Convertir unidades a cajas\n",
        "3. Convertir sacos a libras\n",
        "4. Convertir libras a sacos\n",
        "5. Convertir fardos a unidades\n",
        "6. Convertir unidades a fardos \"\"\")\n",
        "\n",
        "opcion = int(input(\"\"\"Seleccione una opcion: \"\"\"))\n",
        "cantidad = float(input(\"\"\"Ingrese la cantidad a converit: \"\"\"))\n",
        "\n",
        "if opcion == 1:\n",
        "  resultado = convertir_caja_a_unidad(cantidad)\n",
        "  print(f\"{cantidad} cajas son equivalentes a {resultado} unidades\")\n",
        "elif opcion == 2:\n",
        "  resultado = convertir_unidad_a_caja(cantidad)\n",
        "  print(f\"{cantidad} unidades son equivalentes a {resultado} cajas\")\n",
        "elif opcion == 3:\n",
        "  resultado = convertir_saco_a_libra(cantidad)\n",
        "  print(f\"{cantidad} sacos son equivalentes a {resultado} libras\")\n",
        "elif opcion == 4:\n",
        "  resultado = convertir_libra_a_saco(cantidad)\n",
        "  print(f\"{cantidad} libras son equivalentes a {resultado} sacos\")\n",
        "elif opcion == 5:\n",
        "  resultado = convertir_fardo_a_unidad(cantidad)\n",
        "  print(f\"{cantidad} fardos son equivalentes a {resultado} unidades\")\n",
        "elif opcion == 6:\n",
        "  resultado = convertir_unidad_a_fardo(cantidad)\n",
        "  print(f\"{cantidad} unidades son equivalentes a {resultado} fardos\")\n",
        "else:\n",
        "  print(\"opcion no valida, por favor seleccione una opcion del 1 al 6.\")"
      ],
      "metadata": {
        "colab": {
          "base_uri": "https://localhost:8080/"
        },
        "id": "TaCV3wVpuFxJ",
        "outputId": "b63df68e-81b8-440c-b57c-a4d3759fbb67"
      },
      "execution_count": null,
      "outputs": [
        {
          "output_type": "stream",
          "name": "stdout",
          "text": [
            "Seleccione una opcion:\n",
            "1. Convertir cajas a unidades\n",
            "2. Convertir unidades a cajas\n",
            "3. Convertir sacos a libras\n",
            "4. Convertir libras a sacos\n",
            "5. Convertir fardos a unidades\n",
            "6. Convertir unidades a fardos \n",
            "Seleccione una opcion: 2\n",
            "Ingrese la cantidad a converit: 22\n",
            "22.0 unidades son equivalentes a 0.88 cajas\n"
          ]
        }
      ]
    },
    {
      "cell_type": "markdown",
      "source": [
        "Encontrar de una serie de numeros introduciodos por el usuario la varianza"
      ],
      "metadata": {
        "id": "agBk0dwCMfz4"
      }
    },
    {
      "cell_type": "code",
      "source": [
        "def calcular_varianza(numeros):\n",
        "    if len(numeros) == 0:\n",
        "        return 0\n",
        "\n",
        "    media = sum(numeros) / len(numeros)\n",
        "    sumatoria_cuadrados = sum((x - media) ** 2 for x in numeros)\n",
        "    varianza = sumatoria_cuadrados / len(numeros)\n",
        "\n",
        "    return varianza\n",
        "\n",
        "def main():\n",
        "    numeros = input(\"Introduce una serie de números separados por espacios: \")\n",
        "    lista_numeros = list(map(float, numeros.split()))\n",
        "\n",
        "    varianza = calcular_varianza(lista_numeros)\n",
        "    print(f\"La varianza de los números introducidos es: {varianza}\")\n",
        "\n",
        "if __name__ == \"__main__\":\n",
        "    main()"
      ],
      "metadata": {
        "colab": {
          "base_uri": "https://localhost:8080/"
        },
        "id": "kYsY2I4yMnoW",
        "outputId": "e61e21d3-8952-4d55-c582-75b905d8500f"
      },
      "execution_count": null,
      "outputs": [
        {
          "output_type": "stream",
          "name": "stdout",
          "text": [
            "Introduce una serie de números separados por espacios: 6 7\n",
            "La varianza de los números introducidos es: 0.25\n"
          ]
        }
      ]
    },
    {
      "cell_type": "markdown",
      "source": [
        "Encontrar de una serie de numeros introducidos por el usuario la frecuencia"
      ],
      "metadata": {
        "id": "x2MSL85zR8l4"
      }
    },
    {
      "cell_type": "code",
      "source": [
        "def calcular_frecuencia(numeros):\n",
        "    frecuencia = {}\n",
        "    for numero in numeros:\n",
        "        if numero in frecuencia:\n",
        "            frecuencia[numero] += 1\n",
        "        else:\n",
        "            frecuencia[numero] = 1\n",
        "    return frecuencia\n",
        "\n",
        "def main():\n",
        "    numeros = input(\"Introduce una serie de numeros separados por espacios:\")\n",
        "    lista_numeros = list(map(int, numeros.split()))\n",
        "    frecuencia = calcular_frecuencia(lista_numeros)\n",
        "    print(\"Frecuencia de los numeros introducidos:\")\n",
        "    for numero, frecuencia in frecuencia.items():\n",
        "        print(f\"{numero}: {frecuencia}\")\n",
        "\n",
        "if __name__ == \"__main__\":\n",
        "    main()"
      ],
      "metadata": {
        "colab": {
          "base_uri": "https://localhost:8080/"
        },
        "id": "V4uGVgzrS43b",
        "outputId": "557811da-c100-4d93-e7b7-338309d845ea"
      },
      "execution_count": null,
      "outputs": [
        {
          "output_type": "stream",
          "name": "stdout",
          "text": [
            "Introduce una serie de numeros separados por espacios:4 3 5 5 7 3 5 \n",
            "Frecuencia de los numeros introducidos:\n",
            "4: 1\n",
            "3: 2\n",
            "5: 3\n",
            "7: 1\n"
          ]
        }
      ]
    },
    {
      "cell_type": "markdown",
      "source": [
        "Desarrollar un programa en donde se determine si una palabra introducida por el usuario es polindrome. Ejemplo: Ana, Oso, Oro, Reconocer, etc."
      ],
      "metadata": {
        "id": "-k9K4wzpSJtQ"
      }
    },
    {
      "cell_type": "code",
      "source": [
        "def es_polindrome(palabra):\n",
        "    palabra = palabra.lower()\n",
        "    palabra_invertida = palabra[:: -1]\n",
        "    return palabra == palabra_invertida\n",
        "def main():\n",
        "    palabra = input(\"Introduce una palabra:\")\n",
        "    if es_polindrome(palabra):\n",
        "        print(f\"{palabra} es un polindrome.\")\n",
        "    else:\n",
        "        print(f\"{palabra} no es un polindrome.\")\n",
        "if __name__ == \"__main__\":\n",
        "    main()"
      ],
      "metadata": {
        "colab": {
          "base_uri": "https://localhost:8080/"
        },
        "id": "n9Oh96XMWyPs",
        "outputId": "970d0eb6-6b30-422b-b1c6-faa92b9cda57"
      },
      "execution_count": null,
      "outputs": [
        {
          "output_type": "stream",
          "name": "stdout",
          "text": [
            "Introduce una palabra:reconocer\n",
            "reconocer es un polindrome.\n"
          ]
        }
      ]
    }
  ]
}